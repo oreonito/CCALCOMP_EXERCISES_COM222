{
  "cells": [
    {
      "cell_type": "markdown",
      "metadata": {
        "id": "3-prKGbfwFRd"
      },
      "source": [
        "# Exercise 1"
      ]
    },
    {
      "cell_type": "markdown",
      "metadata": {
        "id": "kBW-_z9HwFRf"
      },
      "source": [
        "Please follow the instructions in each number. Do not remove or modify the pre-defined code!"
      ]
    },
    {
      "cell_type": "code",
      "execution_count": 67,
      "metadata": {
        "id": "ABAdD_ngwFRg"
      },
      "outputs": [],
      "source": [
        "# Add a vertex to the set of vertices and the graph\n",
        "def add_vertex(v):\n",
        "  global graph\n",
        "  global vertices_no\n",
        "  global vertices\n",
        "  if v in vertices:\n",
        "    print(\"Vertex \", v, \" already exists\")\n",
        "  else:\n",
        "    vertices_no = vertices_no + 1\n",
        "    vertices.append(v)\n",
        "    if vertices_no > 1:\n",
        "        for vertex in graph:\n",
        "            vertex.append(0)\n",
        "    temp = []\n",
        "    for i in range(vertices_no):\n",
        "        temp.append(0)\n",
        "    graph.append(temp)\n",
        "\n",
        "# Add an edge between vertex v1 and v2 with edge weight e\n",
        "def add_edge(v1, v2, e):\n",
        "    global graph\n",
        "    global vertices_no\n",
        "    global vertices\n",
        "    # Check if vertex v1 is a valid vertex\n",
        "    if v1 not in vertices:\n",
        "        print(\"Vertex \", v1, \" does not exist.\")\n",
        "    # Check if vertex v1 is a valid vertex\n",
        "    elif v2 not in vertices:\n",
        "        print(\"Vertex \", v2, \" does not exist.\")\n",
        "    # Since this code is not restricted to a directed or\n",
        "    # an undirected graph, an edge between v1 v2 does not\n",
        "    # imply that an edge exists between v2 and v1\n",
        "    else:\n",
        "        index1 = vertices.index(v1)\n",
        "        index2 = vertices.index(v2)\n",
        "        graph[index1][index2] = e\n",
        "\n",
        "# Print the graph\n",
        "def print_graph():\n",
        "  global graph\n",
        "  global vertices_no\n",
        "  for i in range(vertices_no):\n",
        "    for j in range(vertices_no):\n",
        "      if graph[i][j] != 0:\n",
        "        print(vertices[i], \" -> \", vertices[j],\n",
        "              \" edge weight: \", graph[i][j])"
      ]
    },
    {
      "cell_type": "code",
      "execution_count": 68,
      "metadata": {
        "id": "912w9tR0wFRh"
      },
      "outputs": [],
      "source": [
        "# stores the vertices in the graph\n",
        "vertices = []\n",
        "# stores the number of vertices in the graph\n",
        "vertices_no = 0\n",
        "graph = []"
      ]
    },
    {
      "cell_type": "markdown",
      "metadata": {
        "id": "lzkib3wYwFRh"
      },
      "source": [
        "<img src=\"https://github.com/robitussin/CCALCOMP_EXERCISES/blob/main/images/directed%20graph2.png?raw=true\"/>"
      ]
    },
    {
      "cell_type": "markdown",
      "metadata": {
        "id": "Qfh-2gbPwFRi"
      },
      "source": [
        "1. Print the edges and vertices of the graph in set representation. (`25 points`)"
      ]
    },
    {
      "cell_type": "code",
      "execution_count": 69,
      "metadata": {
        "id": "FSymqoxmwFRi",
        "colab": {
          "base_uri": "https://localhost:8080/"
        },
        "outputId": "34de1cb7-12f8-4915-8f72-ebbfe5a0f612"
      },
      "outputs": [
        {
          "output_type": "stream",
          "name": "stdout",
          "text": [
            "Vertices: \n",
            "A\n",
            "B\n",
            "C\n",
            "D\n",
            "E\n",
            "\n",
            "Edges:\n",
            "A->C / Cost: 12\n",
            "A->D / Cost: 60\n",
            "E->A / Cost: 7\n",
            "C->B / Cost: B\n",
            "C->D / Cost: 32\n",
            "B->A / Cost: 10\n"
          ]
        }
      ],
      "source": [
        "print(\"Vertices: \\nA\\nB\\nC\\nD\\nE\\n\")\n",
        "print(\"Edges:\\nA->C / Cost: 12\\nA->D / Cost: 60\\nE->A / Cost: 7\\nC->B / Cost: B\\nC->D / Cost: 32\\nB->A / Cost: 10\")"
      ]
    },
    {
      "cell_type": "markdown",
      "metadata": {
        "id": "NHt6QEFzwFRi"
      },
      "source": [
        "2. Implement the weighted graph in python code. Use the print_graph() function. (`25 points`)"
      ]
    },
    {
      "cell_type": "code",
      "execution_count": 70,
      "metadata": {
        "id": "fcYP9VF9wFRj",
        "colab": {
          "base_uri": "https://localhost:8080/"
        },
        "outputId": "f1e8ca46-5856-43dc-e6aa-6b6a65b19944"
      },
      "outputs": [
        {
          "output_type": "stream",
          "name": "stdout",
          "text": [
            "A  ->  C  edge weight:  12\n",
            "B  ->  A  edge weight:  10\n",
            "C  ->  B  edge weight:  20\n",
            "C  ->  D  edge weight:  32\n",
            "E  ->  A  edge weight:  7\n"
          ]
        }
      ],
      "source": [
        "add_vertex('A')\n",
        "add_vertex('B')\n",
        "add_vertex('C')\n",
        "add_vertex('D')\n",
        "add_vertex('E')\n",
        "\n",
        "add_edge('E', 'A', 7)\n",
        "add_edge('A', 'C', 12)\n",
        "add_edge('C', 'D', 32)\n",
        "add_edge('C', 'B', 20)\n",
        "add_edge('B', 'A', 10)\n",
        "\n",
        "print_graph();"
      ]
    },
    {
      "cell_type": "markdown",
      "metadata": {
        "id": "kD-6afNTwFRj"
      },
      "source": [
        "3. You decided to go on a trip around the philippines. Being a computer scientist, you wanted to find the optimal route that would cost the least amount of money to travel all four cities. Find the route and print the total cost of the most optimal route. (`50 points`)"
      ]
    },
    {
      "cell_type": "markdown",
      "source": [],
      "metadata": {
        "id": "ns3PEIOIQ2af"
      }
    },
    {
      "cell_type": "markdown",
      "source": [],
      "metadata": {
        "id": "wK-pmJw0Q3iH"
      }
    },
    {
      "cell_type": "markdown",
      "metadata": {
        "id": "cBHIHSIewFRj"
      },
      "source": [
        "<img src=\"https://github.com/robitussin/CCALCOMP_EXERCISES/blob/main/images/trip.png?raw=true\" width=\"500\" height=\"600\"/>"
      ]
    },
    {
      "cell_type": "code",
      "execution_count": 71,
      "metadata": {
        "id": "yNwmvIXnwFRj",
        "colab": {
          "base_uri": "https://localhost:8080/"
        },
        "outputId": "49c4e9a6-1f3b-4d6e-cbbf-88cd87328ed0"
      },
      "outputs": [
        {
          "output_type": "stream",
          "name": "stdout",
          "text": [
            "Min cost will be: 6500 ph\n",
            "Route: Manila->Tacloban->Puerto Princesa->Davao\n"
          ]
        }
      ],
      "source": [
        "vertices = []\n",
        "vertices_no = 0\n",
        "graph = []\n",
        "\n",
        "# create graph\n",
        "cities = ['Manila', 'Tacloban', 'Davao', 'Puerto Princesa']\n",
        "city_len = 4;\n",
        "c_edges = [['Manila', 'Tacloban', 1000], ['Tacloban', 'Davao', 2000],\n",
        "           ['Davao', 'Puerto Princesa', 4000], ['Puerto Princesa', 'Manila', 8000],\n",
        "           ['Manila', 'Davao', 5000], ['Puerto Princesa', 'Tacloban', 1500]]\n",
        "\n",
        "for city in cities:\n",
        "   add_vertex(city)\n",
        "\n",
        "for c_edge in c_edges:\n",
        "    add_edge(c_edge[0], c_edge[1], c_edge[2])\n",
        "    add_edge(c_edge[1], c_edge[0], c_edge[2])\n",
        "\n",
        "min_cost = float('inf');\n",
        "min_path = []\n",
        "\n",
        "queue = [[[0], 0], [[1], 0], [[2], 0], [[3], 0]];\n",
        "\n",
        "while len(queue) > 0:\n",
        "  size = len(queue)\n",
        "  for i in range(size):\n",
        "    front = queue.pop(0)\n",
        "    visited = len(front[0])\n",
        "\n",
        "    if visited == city_len:\n",
        "      if min_cost > front[1]:\n",
        "        min_path, min_cost = front\n",
        "        continue\n",
        "\n",
        "    for i in range(city_len):\n",
        "      cost = graph[front[0][visited - 1]][i]\n",
        "      if (cost <= 0 or i in front[0]):\n",
        "        continue\n",
        "\n",
        "      temp = copy.deepcopy(front)\n",
        "      temp[0].append(i)\n",
        "      temp[1] = temp[1] + cost\n",
        "      queue.append(temp)\n",
        "\n",
        "print(\"Min cost will be: \" + str(min_cost) + \" ph\")\n",
        "print(\"Route: \" + cities[min_path[0]] + \"->\" + cities[min_path[1]] + \"->\" + cities[min_path[2]] + \"->\" + cities[min_path[3]])\n"
      ]
    }
  ],
  "metadata": {
    "kernelspec": {
      "display_name": "base",
      "language": "python",
      "name": "python3"
    },
    "language_info": {
      "codemirror_mode": {
        "name": "ipython",
        "version": 3
      },
      "file_extension": ".py",
      "mimetype": "text/x-python",
      "name": "python",
      "nbconvert_exporter": "python",
      "pygments_lexer": "ipython3",
      "version": "3.9.6"
    },
    "colab": {
      "provenance": []
    }
  },
  "nbformat": 4,
  "nbformat_minor": 0
}